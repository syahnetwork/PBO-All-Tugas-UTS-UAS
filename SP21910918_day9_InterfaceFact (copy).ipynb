{
 "cells": [
  {
   "cell_type": "code",
   "execution_count": 1,
   "metadata": {},
   "outputs": [
    {
     "data": {
      "text/plain": [
       "com.twosigma.beaker.javash.bkr93b13707.Kemampuan"
      ]
     },
     "execution_count": 1,
     "metadata": {},
     "output_type": "execute_result"
    }
   ],
   "source": [
    "public interface Kemampuan {\n",
    "   void doMove();\n",
    "}"
   ]
  },
  {
   "cell_type": "code",
   "execution_count": 2,
   "metadata": {},
   "outputs": [
    {
     "data": {
      "text/plain": [
       "com.twosigma.beaker.javash.bkredcf2c40.Burung"
      ]
     },
     "execution_count": 2,
     "metadata": {},
     "output_type": "execute_result"
    }
   ],
   "source": [
    "public class Burung implements Kemampuan {\n",
    "\n",
    "   @Override\n",
    "   public void doMove() {\n",
    "      System.out.println(\"Terbang Kemampuan::Burung() method.\");\n",
    "   }\n",
    "}"
   ]
  },
  {
   "cell_type": "code",
   "execution_count": 4,
   "metadata": {},
   "outputs": [
    {
     "data": {
      "text/plain": [
       "com.twosigma.beaker.javash.bkredcf2c40.KemampuanFactory"
      ]
     },
     "execution_count": 4,
     "metadata": {},
     "output_type": "execute_result"
    }
   ],
   "source": [
    "public class KemampuanFactory {\n",
    "\t\n",
    "   //use getShape method to get object of type shape \n",
    "   public Kemampuan getKemampuan(String typeKemampuan){\n",
    "      if(typeKemampuan == null){\n",
    "         return null;\n",
    "      }\t\t\n",
    "      if(typeKemampuan.equalsIgnoreCase(\"BURUNG\")){\n",
    "         return new Burung();\n",
    "         \n",
    "      } \n",
    "      \n",
    "      return null;\n",
    "   }\n",
    "}"
   ]
  },
  {
   "cell_type": "code",
   "execution_count": 2,
   "metadata": {},
   "outputs": [
    {
     "ename": "cannot find symbol",
     "evalue": "cannot find symbol",
     "output_type": "error",
     "text": "cannot find symbol\n  symbol:   variable KemampuanFactory\n  location: class com.twosigma.beaker.javash.bkr93b13707.BeakerWrapperClass1261714175Id3219baad06c443e19ba2c19d5e32f0bb\n Kemampuan BurungBetet = KemampuanFactory.getKemampuan(\"BURUNG\")\n                         ^               ^                        \n\n",
     "traceback": [
      "\u001b[1;31mcannot find symbol\u001b[0;0m",
      "\u001b[1;31m  symbol:   variable KemampuanFactory\u001b[0;0m",
      "\u001b[0;31m  location: class com.twosigma.beaker.javash.bkr93b13707.BeakerWrapperClass1261714175Id3219baad06c443e19ba2c19d5e32f0bb\u001b[0;0m",
      "\u001b[0;31m Kemampuan BurungBetet = KemampuanFactory.getKemampuan(\"BURUNG\")\u001b[0;0m",
      "\u001b[0;31m                         ^               ^                        \u001b[0;0m"
     ]
    }
   ],
   "source": [
    "\n",
    "      //get an object of IkanKoi and call its doMove method.\n",
    "      Kemampuan BurungBetet = KemampuanFactory.getKemampuan(\"BURUNG\");\n",
    "\n",
    "      //call draw method of Ikan\n",
    "      BurungBetet.doMove();\n"
   ]
  },
  {
   "cell_type": "code",
   "execution_count": null,
   "metadata": {},
   "outputs": [],
   "source": []
  }
 ],
 "metadata": {
  "kernelspec": {
   "display_name": "Java",
   "language": "java",
   "name": "java"
  },
  "language_info": {
   "codemirror_mode": "text/x-java",
   "file_extension": ".java",
   "mimetype": "",
   "name": "Java",
   "nbconverter_exporter": "",
   "version": "1.8.0_221"
  }
 },
 "nbformat": 4,
 "nbformat_minor": 4
}

{
 "cells": [
  {
   "cell_type": "code",
   "execution_count": null,
   "metadata": {},
   "outputs": [],
   "source": [
    "//Leave blank\n"
   ]
  },
  {
   "cell_type": "markdown",
   "metadata": {},
   "source": [
    "### 2.A Self-test Questions\n",
    " \n",
    " \n",
    "### Soal 1\n",
    "Tipe data Java apakah yang paling tepat untuk digunakan untuk item - item dari data berikut ini?\n",
    "\n",
    "* jumlah maksimum orang yang diizinkan naik bus; \n",
    "* berat barang yang dibeli di supermarket; \n",
    "* nilai yang diberikan kepada siswa (misalnya ‘A’, ‘B’ atau ‘C’).\n"
   ]
  },
  {
   "cell_type": "markdown",
   "metadata": {},
   "source": [
    "a. int\n",
    "b. double\n",
    "c. char"
   ]
  },
  {
   "cell_type": "markdown",
   "metadata": {},
   "source": [
    "Jawab :\n"
   ]
  },
  {
   "cell_type": "markdown",
   "metadata": {},
   "source": [
    "### Soal 2\n",
    "Lakukan kompilasi dari baris kode berikut ini dan jelaskan  jika menghasilkan kesalahan kompiler (error):"
   ]
  },
  {
   "cell_type": "code",
   "execution_count": 10,
   "metadata": {},
   "outputs": [
    {
     "ename": "incompatible types",
     "evalue": " possible lossy conversion from double to int",
     "output_type": "error",
     "traceback": [
      "\u001b[1;31mincompatible types: possible lossy conversion from double to int\u001b[0;0m",
      "\u001b[1;31m int x = 75.5\u001b[0;0m",
      "\u001b[1;31m         ^   ^ \u001b[0;0m"
     ]
    }
   ],
   "source": [
    "int x = 75.5; "
   ]
  },
  {
   "cell_type": "markdown",
   "metadata": {},
   "source": [
    "mengandung kesalahan karena , tipe data x adalah integer sementara value yang diberikan ialah tipe data double\n",
    "masalah ini dapat diatasi dengan memberikan type casting pada nilai x"
   ]
  },
  {
   "cell_type": "code",
   "execution_count": 45,
   "metadata": {},
   "outputs": [
    {
     "name": "stdout",
     "output_type": "stream",
     "text": [
      "75.0\n"
     ]
    },
    {
     "data": {
      "text/plain": [
       "null"
      ]
     },
     "execution_count": 45,
     "metadata": {},
     "output_type": "execute_result"
    }
   ],
   "source": [
    "double y = 75;\n",
    "System.out.println(y);"
   ]
  },
  {
   "cell_type": "markdown",
   "metadata": {},
   "source": [
    "hasil dari nilai y dapat di compile dan run , jika dilakukan System.out.println(y), maka didapat hasil y = 75.0"
   ]
  },
  {
   "cell_type": "markdown",
   "metadata": {},
   "source": [
    "### Soal 3\n",
    "Manakah dari berikut ini yang akan menjadi nama yang betul untuk suatu variabel.\n",
    "``` javascript\n",
    "ticket\n",
    "\n",
    "cinema ticket\n",
    "\n",
    "cinemaTicket\n",
    "\n",
    "cinema_ticket\n",
    "\n",
    "void\n",
    "\n",
    "Ticket\n",
    "```"
   ]
  },
  {
   "cell_type": "markdown",
   "metadata": {},
   "source": [
    "a. ticket benar\n",
    "b. cinema ticket salah , karena mengandung spasi\n",
    "c. cinemaTicket benar\n",
    "d. cinema_ticket benar\n",
    "e. void salah , karena penamaan variabel void reserved/sudah digunakan oleh Java\n",
    "f. Ticket salah , karena tidak sesuai dengan penamaan yang diberikan oleh clean code convention "
   ]
  },
  {
   "cell_type": "markdown",
   "metadata": {},
   "source": [
    "### Soal 4. \n",
    "\n",
    "Identifikasi dan perbaikilah kesalahan dalam program di bawah ini, yang menanyakan usia pengguna dan kemudian mencoba mencari tahu tahun di mana pengguna dilahirkan."
   ]
  },
  {
   "cell_type": "code",
   "execution_count": 20,
   "metadata": {},
   "outputs": [
    {
     "ename": "illegal character",
     "evalue": " '\\u2013'",
     "output_type": "error",
     "traceback": [
      "\u001b[1;31millegal character: '\\u2013'\u001b[0;0m",
      "\u001b[1;31m bornIn = YEAR – age\u001b[0;0m",
      "\u001b[1;31m               ^     \u001b[0;0m",
      "\u001b[1;31m\u001b[0;0m",
      "\u001b[1;31mnot a statement\u001b[0;0m",
      "\u001b[1;31m bornIn = YEAR – age\u001b[0;0m",
      "\u001b[1;31m                 ^  ^ \u001b[0;0m"
     ]
    }
   ],
   "source": [
    "final int YEAR; \n",
    "int age, bornIn; \n",
    "\n",
    "age = 10; \n",
    "\n",
    "bornIn = YEAR – age; \n",
    "\n",
    "System.out.println(\"Anda Lahir Tahun \" + BornIn);"
   ]
  },
  {
   "cell_type": "markdown",
   "metadata": {},
   "source": [
    "1. penamaan variable year salah\n",
    "2. variable year belum dimasukkan\n",
    "3. kesalahan pengetikan variable pada method println BornIn"
   ]
  },
  {
   "cell_type": "code",
   "execution_count": 25,
   "metadata": {},
   "outputs": [
    {
     "name": "stdout",
     "output_type": "stream",
     "text": [
      "Anda Lahir Tahun 1\n"
     ]
    },
    {
     "data": {
      "text/plain": [
       "null"
      ]
     },
     "execution_count": 25,
     "metadata": {},
     "output_type": "execute_result"
    }
   ],
   "source": [
    "/* program setelah dikoreksi */\n",
    "final int year;\n",
    "int age, bornIn;\n",
    "\n",
    "year=11;\n",
    "age =10;\n",
    "\n",
    "bornIn=year-age;\n",
    "\n",
    "System.out.println(\"Anda Lahir Tahun \" + bornIn);"
   ]
  },
  {
   "cell_type": "markdown",
   "metadata": {},
   "source": []
  },
  {
   "cell_type": "markdown",
   "metadata": {},
   "source": [
    "Penjelasan soal 4 :\n"
   ]
  },
  {
   "cell_type": "markdown",
   "metadata": {},
   "source": [
    "### Soal 5. \n",
    "Berapa nilai akhir z dalam program berikut:\n",
    "``` javascript\n",
    "int x, y, z; \n",
    "x = 5; \n",
    "y = x + 2; \n",
    "x = 10; \n",
    "z = y * x;\n",
    "```"
   ]
  },
  {
   "cell_type": "code",
   "execution_count": 27,
   "metadata": {},
   "outputs": [
    {
     "name": "stdout",
     "output_type": "stream",
     "text": [
      "70\n"
     ]
    },
    {
     "data": {
      "text/plain": [
       "null"
      ]
     },
     "execution_count": 27,
     "metadata": {},
     "output_type": "execute_result"
    }
   ],
   "source": [
    "//Program Soal5 :\n",
    "\n",
    "int x, y, z; \n",
    "x = 5; \n",
    "y = x + 2; \n",
    "x = 10; \n",
    "z = y * x;\n",
    "\n",
    "System.out.println(z);\n",
    "\n",
    "//hasil nilai z adalah 70\n"
   ]
  },
  {
   "cell_type": "markdown",
   "metadata": {},
   "source": [
    "### Soal 6\n",
    "\n",
    "Apa yang akan menjadi keluaran akhir dari program di bawah ini jika num1 diberikan nila 10\n",
    "``` javascript\n",
    "int num1, num2; \n",
    "\n",
    "num1 = 4;\n",
    "\n",
    "num2 = 6; \n",
    " \n",
    "num1 = num1 + 2; \n",
    "num2 = num1 / num2; \n",
    "```"
   ]
  },
  {
   "cell_type": "code",
   "execution_count": 30,
   "metadata": {},
   "outputs": [
    {
     "name": "stdout",
     "output_type": "stream",
     "text": [
      "12\n",
      "2\n"
     ]
    },
    {
     "data": {
      "text/plain": [
       "null"
      ]
     },
     "execution_count": 30,
     "metadata": {},
     "output_type": "execute_result"
    }
   ],
   "source": [
    "int num1, num2; \n",
    "\n",
    "num1 = 10;\n",
    "\n",
    "num2 = 6; \n",
    "\n",
    "num1 = num1 + 2; \n",
    "num2 = num1 / num2;\n",
    "\n",
    "System.out.println(num1);\n",
    "System.out.println(num2);\n",
    "\n",
    "//nilai num1 = 12\n",
    "//nilai num2 = 2"
   ]
  },
  {
   "cell_type": "markdown",
   "metadata": {},
   "source": [
    "### Soal 7. \n",
    "\n",
    "Buatlah pseudocode untuk merancang program yang meminta pengguna untuk memasukkan nilai panjang dan tinggi persegi panjang dan kemudian menampilkan luas, keliling dan perimeter persegi panjang tersebut.\n"
   ]
  },
  {
   "cell_type": "code",
   "execution_count": null,
   "metadata": {},
   "outputs": [],
   "source": [
    "BEGIN\n",
    "    SET for panjang \n",
    "    SET for lebar \n",
    "    ENTER value in panjang \n",
    "    ENTER value in lebar \n",
    "    SET value to luas = panjang * lebar \n",
    "     SET value to keliling = 2 * (p + l)\n",
    "    DISPLAY value luas\n",
    "        DISPLAY value keliling\n",
    "\n",
    "END"
   ]
  },
  {
   "cell_type": "markdown",
   "metadata": {},
   "source": [
    "### Soal 8. \n",
    "\n",
    "Program di bawah ini ditulis dengan tujuan untuk menukar nilai dari dua variabel. Walaupun tidak memberikan hasil yang diinginkan:\n"
   ]
  },
  {
   "cell_type": "code",
   "execution_count": 31,
   "metadata": {},
   "outputs": [
    {
     "ename": "illegal start of expression",
     "evalue": "illegal start of expression",
     "output_type": "error",
     "traceback": [
      "\u001b[1;31millegal start of expression\u001b[0;0m",
      "\u001b[1;31m x = [masukan nilai x]\u001b[0;0m",
      "\u001b[1;31m     ^                 \u001b[0;0m",
      "\u001b[1;31m\u001b[0;0m",
      "\u001b[1;31m';' expected\u001b[0;0m",
      "\u001b[1;31m x = [masukan nilai x]\u001b[0;0m",
      "\u001b[1;31m                   ^   \u001b[0;0m",
      "\u001b[1;31m\u001b[0;0m",
      "\u001b[1;31mnot a statement\u001b[0;0m",
      "\u001b[1;31m x = [masukan nilai x]\u001b[0;0m",
      "\u001b[1;31m                    ^^  \u001b[0;0m",
      "\u001b[1;31m\u001b[0;0m",
      "\u001b[1;31m';' expected\u001b[0;0m",
      "\u001b[1;31m x = [masukan nilai x]\u001b[0;0m",
      "\u001b[1;31m                     ^ \u001b[0;0m",
      "\u001b[1;31m\u001b[0;0m",
      "\u001b[1;31millegal start of expression\u001b[0;0m",
      "\u001b[1;31m x = [masukan nilai y]\u001b[0;0m",
      "\u001b[1;31m     ^                 \u001b[0;0m",
      "\u001b[1;31m\u001b[0;0m",
      "\u001b[1;31m';' expected\u001b[0;0m",
      "\u001b[1;31m x = [masukan nilai y]\u001b[0;0m",
      "\u001b[1;31m                   ^   \u001b[0;0m",
      "\u001b[1;31m\u001b[0;0m",
      "\u001b[1;31mnot a statement\u001b[0;0m",
      "\u001b[1;31m x = [masukan nilai y]\u001b[0;0m",
      "\u001b[1;31m                    ^^  \u001b[0;0m",
      "\u001b[1;31m\u001b[0;0m",
      "\u001b[1;31m';' expected\u001b[0;0m",
      "\u001b[1;31m x = [masukan nilai y]\u001b[0;0m",
      "\u001b[1;31m                     ^ \u001b[0;0m"
     ]
    }
   ],
   "source": [
    "//Program Soal 8 :\n",
    "// declare variables \n",
    "int x, y; \n",
    "// intialize values\n",
    "x = [masukan nilai x]; \n",
    "x = [masukan nilai y];\n",
    "System.out.print(\"value for x \"+x); \n",
    "System.out.print(\"value for y \"+y); \n",
    "// code attempting to swap two variables  \n",
    "y = x; \n",
    "//display results \n",
    "System.out.println(\"x = \" + x); \n",
    "System.out.println(\"y = \" + y);"
   ]
  },
  {
   "cell_type": "markdown",
   "metadata": {},
   "source": [
    "Berikan penjelasan dari Program Soal 8 jawab :\n",
    "(a) Dapatkah Anda melihat mengapa program tidak melakukan seperti yang diharapkan?\n",
    "\n"
   ]
  },
  {
   "cell_type": "code",
   "execution_count": null,
   "metadata": {},
   "outputs": [],
   "source": [
    "//Program Soal 8 :\n",
    "// declare variables \n",
    "int x, y; \n",
    "// intialize values\n",
    "x = [masukan nilai x]; \n",
    "x = [masukan nilai y];\n",
    "System.out.print(\"value for x \"+x); \n",
    "System.out.print(\"value for y \"+y); \n",
    "// code attempting to swap two variables  \n",
    "y = x; \n",
    "//display results \n",
    "System.out.println(\"x = \" + x); \n",
    "System.out.println(\"y = \" + y);"
   ]
  },
  {
   "cell_type": "markdown",
   "metadata": {},
   "source": [
    "program tidak berjalan karena argumen memberikan value utk x 2 kali, lalu tidak menggunakan Scanner myObj = new Scanner(System.in); (tidak menggunakan java user input)"
   ]
  },
  {
   "cell_type": "markdown",
   "metadata": {},
   "source": [
    "(b) Apa yang akan menjadi hasil aktual dari program tersebut? \n",
    "\n"
   ]
  },
  {
   "cell_type": "markdown",
   "metadata": {},
   "source": [
    "1. illegal start of expression\n",
    "2. not a statement\n",
    "\n"
   ]
  },
  {
   "cell_type": "markdown",
   "metadata": {},
   "source": [
    "(c) Modifikasilah program di atas sehingga nilai-nilai dari kedua variabel berhasil ditukar?\n",
    "    "
   ]
  },
  {
   "cell_type": "code",
   "execution_count": 37,
   "metadata": {},
   "outputs": [
    {
     "name": "stdout",
     "output_type": "stream",
     "text": [
      "value for x = 10\n",
      "value for y = 20\n",
      "x = 20\n",
      "y = 10\n"
     ]
    },
    {
     "data": {
      "text/plain": [
       "null"
      ]
     },
     "execution_count": 37,
     "metadata": {},
     "output_type": "execute_result"
    }
   ],
   "source": [
    "\n",
    "// declare variables \n",
    "int x, y; \n",
    "// intialize values\n",
    "x = 10; \n",
    "y = 20;\n",
    "System.out.println(\"value for x = \"+ x); \n",
    "System.out.println(\"value for y = \"+ y); \n",
    "//kode untuk menukar 2 variabel\n",
    "    x = x + y; \n",
    "    y = x - y; \n",
    "    x = x - y; \n",
    "//display results \n",
    "System.out.println(\"x = \" + x); \n",
    "System.out.println(\"y = \" + y);"
   ]
  },
  {
   "cell_type": "markdown",
   "metadata": {},
   "source": [
    "### 2.B Programming Exercises\n",
    "\n",
    "#### SOAL 1B.\n",
    "Implementasikan dan analisa program dibawah ini :"
   ]
  },
  {
   "cell_type": "code",
   "execution_count": null,
   "metadata": {},
   "outputs": [],
   "source": [
    "/ Program findcost3\n",
    "/* a program to input the initial price of a product and then calculate and display its cost after tax has been added */ \n",
    "\n",
    "double price, tax; \n",
    "System.out.println(\"*** Product Price Check ***\"); \n",
    "price = [masukan nilai price]; // input price\n",
    "tax = [masukan nilai tax]; // input tax\n",
    "System.out.print(\"initial price: \"+price); \n",
    "System.out.print(\"initial tax: \"+tax);\n",
    "price = price * (1 + tax/100); // perform the calculation System.out.println(\"Cost after tax = \" + price);\n"
   ]
  },
  {
   "cell_type": "markdown",
   "metadata": {},
   "source": [
    "#### SOAL 2B. \n",
    "Implementasikan program dari soal-soal **2.A Self-test Questions** nomor 4, 5, 6 dan 8 di atas untuk memverifikasi jawaban Anda terhadap pertanyaan-pertanyaan tersebut."
   ]
  },
  {
   "cell_type": "code",
   "execution_count": 56,
   "metadata": {},
   "outputs": [
    {
     "name": "stdout",
     "output_type": "stream",
     "text": [
      "*** Product Price Check ***\n",
      "initial price: 10000.0\n",
      "initial tax: 500.0\n"
     ]
    },
    {
     "data": {
      "text/plain": [
       "null"
      ]
     },
     "execution_count": 56,
     "metadata": {},
     "output_type": "execute_result"
    }
   ],
   "source": [
    "// implementasi program dengan memasukkan nilai dari variable\n",
    "/* a program to input the initial price of a product and then calculate and display its cost after tax has been added */ \n",
    "\n",
    "double price, tax; \n",
    "System.out.println(\"*** Product Price Check ***\"); \n",
    "price = 10000; // input price\n",
    "tax = 500; // input tax\n",
    "System.out.println(\"initial price: \"+ price); \n",
    "System.out.println(\"initial tax: \"+ tax);\n",
    "price = price * (1 + tax/100); // perform the calculation System.out.println(\"Cost after tax = \" + price);\n"
   ]
  },
  {
   "cell_type": "markdown",
   "metadata": {},
   "source": [
    "#### SOAL 3B.\n",
    "Implementasikan program persegi panjang yang Anda rancang dalam **2.A Self-test Questions** nomor 7"
   ]
  },
  {
   "cell_type": "code",
   "execution_count": 47,
   "metadata": {},
   "outputs": [
    {
     "name": "stdout",
     "output_type": "stream",
     "text": [
      "luas = 200.0\n",
      "keliling = 60.0\n"
     ]
    },
    {
     "data": {
      "text/plain": [
       "null"
      ]
     },
     "execution_count": 47,
     "metadata": {},
     "output_type": "execute_result"
    }
   ],
   "source": [
    "//SOAL 3B.\n",
    "double luas, panjang, lebar, keliling;\n",
    "panjang = 10;\n",
    "lebar = 20;\n",
    "\n",
    "luas = panjang * lebar;\n",
    "keliling = 2* (panjang + lebar);\n",
    "\n",
    "System.out.println(\"luas = \" + luas);\n",
    "System.out.println(\"keliling = \" + keliling);\n",
    "\n"
   ]
  },
  {
   "cell_type": "markdown",
   "metadata": {},
   "source": [
    "#### SOAL 4B. \n",
    "pseudocode ini untuk merancang program yang mengubah pound ke kilo (1 kilo = 2,2 lb).\n",
    "``` javascript\n",
    "   BEGIN \n",
    "    SET for pounds \n",
    "    ENTER value in pounds \n",
    "    SET value to old value ÷ 2.2 \n",
    "    DISPLAY value in kilos \n",
    "   END\n",
    "```   \n",
    "   Implementasikan program untuk pseudocode diatas, perhatikan untuk mendeklarasikan variabel apa pun yang diperlukan."
   ]
  },
  {
   "cell_type": "code",
   "execution_count": 43,
   "metadata": {},
   "outputs": [
    {
     "name": "stdout",
     "output_type": "stream",
     "text": [
      "4.545454545454545 kg\n"
     ]
    },
    {
     "data": {
      "text/plain": [
       "null"
      ]
     },
     "execution_count": 43,
     "metadata": {},
     "output_type": "execute_result"
    }
   ],
   "source": [
    "//Program 4B\n",
    "double pounds;\n",
    "pounds = 10;\n",
    "\n",
    "double newPounds = pounds/2.2;\n",
    "\n",
    "System.out.println(newPounds + \" kg\");\n",
    "\n",
    "\n"
   ]
  },
  {
   "cell_type": "markdown",
   "metadata": {},
   "source": [
    "#### SOAL 5B. \n",
    "Individual Body Mass Index (BMI) adalah ukuran berat ideal seseorang sehubungan dengan tinggi badan mereka. dihitung dengan cara berikut:\n",
    " \n",
    "  * membagi berat badan seseorang (dalam kg) dengan kuadrat tinggi badan mereka (dalam meter) \n",
    "\n",
    "Rancang pseudocode dan implementasikan program untuk memungkinkan inisialisasi variabel berat dan tinggi badan untuk kemudian mencetak BMI mereka.\n"
   ]
  },
  {
   "cell_type": "markdown",
   "metadata": {},
   "source": [
    "BEGIN\n",
    "    SET for berat \n",
    "    SET for tinggi \n",
    "    ENTER value in berat \n",
    "    ENTER value in tinggi \n",
    "    SET value to bmi = berat/tinggi^2\n",
    "    DISPLAY value bmi\n",
    "END"
   ]
  },
  {
   "cell_type": "code",
   "execution_count": 52,
   "metadata": {},
   "outputs": [
    {
     "name": "stdout",
     "output_type": "stream",
     "text": [
      "10.0\n"
     ]
    },
    {
     "data": {
      "text/plain": [
       "null"
      ]
     },
     "execution_count": 52,
     "metadata": {},
     "output_type": "execute_result"
    }
   ],
   "source": [
    "double berat,tinggi, bmi;\n",
    "berat =10;\n",
    "tinggi =20;\n",
    "\n",
    "bmi=berat/tinggi*tinggi;\n",
    "\n",
    "System.out.println(bmi);\n"
   ]
  },
  {
   "cell_type": "markdown",
   "metadata": {},
   "source": [
    "#### SOAL 6B \n",
    "Rancanglah dan implementasikan program yang memungkinkan pengguna untuk memasukkan nilai untuk jari-jari lingkaran, lalu menampilkan area dan keliling lingkaran.\n",
    "**Note :** phi = 3,1416 sebagai konstanta "
   ]
  },
  {
   "cell_type": "code",
   "execution_count": null,
   "metadata": {},
   "outputs": [],
   "source": [
    "BEGIN\n",
    "    SET for r \n",
    "    ENTER value in r \n",
    "    SET value to area =  phi * r^2\n",
    "     SET value to keliling =  2 * phi * r\n",
    "    DISPLAY value area\n",
    "     DISPLAY value keliling\n",
    "END"
   ]
  },
  {
   "cell_type": "code",
   "execution_count": 51,
   "metadata": {},
   "outputs": [
    {
     "name": "stdout",
     "output_type": "stream",
     "text": [
      "314.16\n",
      "62.832\n"
     ]
    },
    {
     "data": {
      "text/plain": [
       "null"
      ]
     },
     "execution_count": 51,
     "metadata": {},
     "output_type": "execute_result"
    }
   ],
   "source": [
    "double area, keliling;\n",
    "double phi = 3.1416;\n",
    "double r;\n",
    "r = 10;\n",
    "    area = phi *r*r;\n",
    "keliling = 2*phi*r;\n",
    "System.out.println(area);\n",
    "System.out.println(keliling);\n",
    "    "
   ]
  },
  {
   "cell_type": "code",
   "execution_count": null,
   "metadata": {},
   "outputs": [],
   "source": []
  }
 ],
 "metadata": {
  "kernelspec": {
   "display_name": "Java",
   "language": "java",
   "name": "java"
  },
  "language_info": {
   "codemirror_mode": "text/x-java",
   "file_extension": ".java",
   "mimetype": "",
   "name": "Java",
   "nbconverter_exporter": "",
   "version": "1.8.0_121"
  },
  "toc": {
   "base_numbering": 1,
   "nav_menu": {},
   "number_sections": false,
   "sideBar": false,
   "skip_h1_title": false,
   "title_cell": "Table of Contents",
   "title_sidebar": "Contents",
   "toc_cell": false,
   "toc_position": {},
   "toc_section_display": false,
   "toc_window_display": false
  }
 },
 "nbformat": 4,
 "nbformat_minor": 2
}

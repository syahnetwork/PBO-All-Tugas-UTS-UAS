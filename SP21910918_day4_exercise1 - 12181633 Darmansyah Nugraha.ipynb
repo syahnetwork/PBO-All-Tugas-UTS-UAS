{
 "cells": [
  {
   "cell_type": "markdown",
   "metadata": {},
   "source": [
    "## Array\n",
    "\n",
    "Array adalah kumpulan variabel bertipe sama yang dapat diakses melalui indeks. Elemen array diakses menggunakan simbol kurung siku [].  Setelah dideklarasikan, array harus diinisialisasi terlebih dulu.\n",
    "\n",
    "Contoh:\n",
    "``` javascript\n",
    "   int[] tinggi;\n",
    "   tinggi = new int[100];  //ada 100 elemen, mulai dari indeks 0 sd 99\n",
    "```\n",
    "atau dapat digabungkan:\n",
    "``` javascript\n",
    "   int[] tinggi  = new int[100];\n",
    "```\n",
    "Jalankanlah Contoh kode java dibawah ini (perhatikan penggunaan tinggi.length untuk mendapat ukuran array):\n"
   ]
  },
  {
   "cell_type": "code",
   "execution_count": 4,
   "metadata": {},
   "outputs": [
    {
     "name": "stdout",
     "output_type": "stream",
     "text": [
      "Tinggi indeks ke-0 adalah 3\n",
      "Tinggi indeks ke-1 adalah 6\n",
      "Tinggi indeks ke-2 adalah 3\n"
     ]
    },
    {
     "data": {
      "text/plain": [
       "null"
      ]
     },
     "execution_count": 4,
     "metadata": {},
     "output_type": "execute_result"
    }
   ],
   "source": [
    "//Program 4.1  \n",
    "   int[] tinggi; //deklarasi\n",
    "   tinggi = new int[3]; //inisiasi\n",
    "   tinggi[0] = 3;  \n",
    "   tinggi[1] = 6;\n",
    "   tinggi[2] = 3;\n",
    "   \n",
    "   for(int i=0;i<tinggi.length;i++) {\n",
    "       System.out.println(\"Tinggi indeks ke-\"+i+\" adalah \"+tinggi[i]);\n",
    "   }"
   ]
  },
  {
   "cell_type": "markdown",
   "metadata": {},
   "source": [
    "#### Tugas 4.1\n",
    "\n",
    "Ubahlah kode diatas pada bagian inisiasi variable *tinggi* menjadi sebagai berikut:\n",
    "``` javascript\n",
    " tinggi = new int[] {3,6,3};\n",
    "```\n",
    "Bagaimanakah hasil dan kesimpulannya?"
   ]
  },
  {
   "cell_type": "code",
   "execution_count": 12,
   "metadata": {},
   "outputs": [
    {
     "name": "stdout",
     "output_type": "stream",
     "text": [
      "Tinggi indeks ke-0 adalah 3\n",
      "Tinggi indeks ke-1 adalah 6\n",
      "Tinggi indeks ke-2 adalah 3\n"
     ]
    },
    {
     "data": {
      "text/plain": [
       "null"
      ]
     },
     "execution_count": 12,
     "metadata": {},
     "output_type": "execute_result"
    }
   ],
   "source": [
    "//Program 4.1.2  \n",
    "   int[] tinggi; //deklarasi\n",
    "   tinggi = new int[] {3,6,3}; //inisiasi\n",
    "//    tinggi[0] = 3;  \n",
    "//    tinggi[1] = 6;\n",
    "//    tinggi[2] = 3;\n",
    "   \n",
    "   for(int i=0;i<tinggi.length;i++) {\n",
    "       System.out.println(\"Tinggi indeks ke-\"+i+\" adalah \"+tinggi[i]);\n",
    "   }"
   ]
  },
  {
   "cell_type": "code",
   "execution_count": null,
   "metadata": {},
   "outputs": [],
   "source": [
    "Hasil :\n",
    "Tinggi indeks ke-0 adalah 3\n",
    "Tinggi indeks ke-1 adalah 6\n",
    "Tinggi indeks ke-2 adalah 3\n",
    "    Kesimpulan : kita bisa menginisialisasi value langsung pada variabel array dengan menggunakan kurung himpunan (curly bracket)"
   ]
  },
  {
   "cell_type": "markdown",
   "metadata": {},
   "source": [
    "#### Tugas 4.2\n",
    "\n",
    "Modifikasi program diatas untuk menampilkan informasi sebagai berikut:\n",
    "\n",
    "[a] Menampilkan indeks yang memiliki nilai 3\n",
    "\n",
    "[b] Menampilkan nilai pada indeks: 0,2"
   ]
  },
  {
   "cell_type": "code",
   "execution_count": 30,
   "metadata": {},
   "outputs": [
    {
     "name": "stdout",
     "output_type": "stream",
     "text": [
      "Index yang memiliki nilai 3 = index ke - 0\n",
      "Index yang memiliki nilai 3 = index ke - 2\n"
     ]
    }
   ],
   "source": [
    "//Program 4.2  [a]\n",
    " public static void main(String[] args) {\n",
    "        ArrayList<Integer> tinggi = new ArrayList<Integer>(3);\n",
    "        tinggi.add(3);\n",
    "        tinggi.add(6);\n",
    "        tinggi.add(3);\n",
    "       \n",
    "       for (int i = 0; i < tinggi.size(); i++) {\n",
    "            if (tinggi.get(i).equals(3)) {\n",
    "                System.out.println(\"Index yang memiliki nilai 3 = index ke - \" + i);\n",
    "            }\n",
    "       }\n",
    "   }\n",
    "\n",
    "   "
   ]
  },
  {
   "cell_type": "code",
   "execution_count": 32,
   "metadata": {},
   "outputs": [
    {
     "name": "stdout",
     "output_type": "stream",
     "text": [
      "3\n",
      "3\n"
     ]
    }
   ],
   "source": [
    "//Program 4.2  [b]\n",
    "public static void main(String[] args) {\n",
    "        ArrayList<Integer> tinggi = new ArrayList<Integer>(3);\n",
    "        tinggi.add(3);\n",
    "        tinggi.add(6);\n",
    "        tinggi.add(3);\n",
    "\n",
    "        System.out.println(tinggi.get(0));\n",
    "        System.out.println(tinggi.get(2));\n",
    "    }"
   ]
  },
  {
   "cell_type": "markdown",
   "metadata": {},
   "source": [
    "### Array: For-Each\n",
    "\n",
    "Dimulai dari Java SE 5.0 keatas,  programmer dapat  melakukan loop untuk setiap elemen array dengan mudah. Bentuk dari for-each adalah sebagai berikut:\n",
    "``` javascript\n",
    "for (variable : array)  {\n",
    "   ….\n",
    "}\n",
    "```\n",
    "Jalankan kode berikut untuk contoh array pada aplikasi sebelumnya dapat ditulis ulang sebagai berikut"
   ]
  },
  {
   "cell_type": "markdown",
   "metadata": {},
   "source": [
    "//Program 4.2   \n",
    "   int[] tinggi;\n",
    "   tinggi = new int[3];\n",
    "   tinggi[0] = 3;  \n",
    "   tinggi[1] = 6;\n",
    "   tinggi[2] = 3;\n",
    "   \n",
    "   for(int n:tinggi) {\n",
    "       System.out.println(\"Tinggi adalah:\"+n);\n",
    "   }"
   ]
  },
  {
   "cell_type": "markdown",
   "metadata": {},
   "source": [
    "#### Tugas 4.3\n",
    "Modifikasi  **Tugas 4.2**, ganti loop-nya dengan *for..each*."
   ]
  },
  {
   "cell_type": "code",
   "execution_count": 26,
   "metadata": {},
   "outputs": [
    {
     "name": "stdout",
     "output_type": "stream",
     "text": [
      "index 3 0\n",
      "index 3 2\n"
     ]
    }
   ],
   "source": [
    "//Program 4.2    [a]\n",
    "   public static void main(String[] args) {\n",
    "        ArrayList<Integer> tinggi = new ArrayList<Integer>(3);\n",
    "        tinggi.add(3);\n",
    "        tinggi.add(6);\n",
    "        tinggi.add(3);\n",
    "       \n",
    "       for (int i = 0; i < tinggi.size(); i++) {\n",
    "            if (tinggi.get(i).equals(3)) {\n",
    "                System.out.println(\"index 3 \" + i);\n",
    "            }\n",
    "       }\n",
    "   }\n"
   ]
  },
  {
   "cell_type": "code",
   "execution_count": 37,
   "metadata": {},
   "outputs": [
    {
     "name": "stdout",
     "output_type": "stream",
     "text": [
      "3\n",
      "3\n",
      "3\n",
      "3\n",
      "3\n",
      "3\n"
     ]
    }
   ],
   "source": [
    "//Program 4.2    [b]\n",
    "ArrayList<Integer> tinggi = new ArrayList<Integer>(3);\n",
    "        tinggi.add(3);\n",
    "        tinggi.add(6);\n",
    "        tinggi.add(3);\n",
    "\n",
    "        for (int i : tinggi) {\n",
    "            System.out.println(tinggi.get(0));\n",
    "            System.out.println(tinggi.get(2));\n",
    "        }\n"
   ]
  },
  {
   "cell_type": "markdown",
   "metadata": {},
   "source": [
    "### Array: Sorting\n",
    "\n",
    "Sorting pada array dapat dilakukan dengan menggunakan method Arrays.sort.\n",
    "\n",
    "#### Tugas 4.4\n",
    "potongan kode dibawah ini menggunakan fungsi *Arrays.sort*, jalankan sempurnakan jika ada error/kesalahan  "
   ]
  },
  {
   "cell_type": "markdown",
   "metadata": {},
   "source": [
    "//Program 4.3 \n",
    "import java.util.Arrays;\n",
    "\n",
    "\n",
    "   int[] tinggi;\n",
    "   tinggi = new int[3]\n",
    "   tinggi[0] : 5;  //asignment\n",
    "   tinggi[1] : 6;\n",
    "   tinggi[2] : 3;\n",
    "   Arrays.sort(tinggi);   \n",
    "   for(n:tinggi) {\n",
    "       System.out.println(\"Tinggi adalah\"+n);\n",
    "   }"
   ]
  },
  {
   "cell_type": "code",
   "execution_count": 40,
   "metadata": {},
   "outputs": [
    {
     "name": "stdout",
     "output_type": "stream",
     "text": [
      "java & python mastery man\n",
      "Tinggi adalah 3\n",
      "Tinggi adalah 5\n",
      "Tinggi adalah 6\n"
     ]
    }
   ],
   "source": [
    "//Program 4.3 perbaikan\n",
    "public static void main(String[] args) {\n",
    "\n",
    "        int[] tinggi;\n",
    "        tinggi = new int[3];\n",
    "        tinggi[0] = 5;  //asignment\n",
    "        tinggi[1] = 6;\n",
    "        tinggi[2] = 3;\n",
    "        Arrays.sort(tinggi);\n",
    "        for (int n : tinggi) {\n",
    "            System.out.println(\"Tinggi adalah \" + n);\n",
    "        }\n",
    "    }"
   ]
  },
  {
   "cell_type": "markdown",
   "metadata": {},
   "source": [
    "### Array: Dua Dimensi\n",
    "Deklarasi dan inisiasi array dua dimensi adalah sebagai berikut:\n",
    "``` javascript\n",
    "double[][] matriks = new double[1][1];\n",
    "```\n",
    "Contoh:"
   ]
  },
  {
   "cell_type": "code",
   "execution_count": null,
   "metadata": {},
   "outputs": [],
   "source": [
    "//Program 4.4\n",
    "   double[][] matriks = new double[2][2];  // 2 x 2\n",
    "   \n",
    "   matriks[0][0] = 0;\n",
    "   matriks[0][1] = 1;   \n",
    "   matriks[1][0] = 2;\n",
    "   matriks[1][1] = 3;\n",
    "   \n",
    "   //cara biasa\n",
    "   for(int i=0;i<matriks.length;i++) {\n",
    "       for (int j=0;j<matriks[i].length;j++) {\n",
    "         System.out.printf(\"Nilai [%d,%d] = %4.2f \\n\",i,j,matriks[i][j]);  \n",
    "       }      \n",
    "   }\n",
    "   \n",
    "   //cara foreach\n",
    "   for(double[] baris:matriks) {\n",
    "       for (double val:baris) {\n",
    "         System.out.println(\"Nilai = \"+val);  \n",
    "       }      \n",
    "   }"
   ]
  },
  {
   "cell_type": "markdown",
   "metadata": {},
   "source": [
    "Cara inisiasi yang lebih ringkas:\n",
    "``` javascript\n",
    "\tdouble[][] matriks = new double[][]\n",
    "    \t{\n",
    "    \t   {0,1},\n",
    "    \t   {2,3}\n",
    "    \t};\n",
    "    \t   \n",
    "   // ....\n",
    "\n",
    "```\n",
    "#### Tugas 4.5\n",
    "\n",
    "Modifikasi *Program 4.4*, ganti inisiasi menjadi lebih ringkas seperti syntax diatas"
   ]
  },
  {
   "cell_type": "markdown",
   "metadata": {},
   "source": [
    "public static void main(String[] args) {\n",
    "        //Program 4.4\n",
    "        double[][] matriks = new double[][]\n",
    "                {\n",
    "                        {0, 1},\n",
    "                        {2, 3}\n",
    "                };\n",
    "\n",
    "        //cara biasa\n",
    "        for (int i = 0; i < matriks.length; i++) {\n",
    "            for (int j = 0; j < matriks[i].length; j++) {\n",
    "                System.out.printf(\"Nilai [%d,%d] = %4.2f \\n\", i, j, matriks[i][j]);\n",
    "            }\n",
    "        }\n",
    "\n",
    "        //cara foreach\n",
    "        for (double[] baris : matriks) {\n",
    "            for (double val : baris) {\n",
    "                System.out.println(\"Nilai = \" + val);\n",
    "            }\n",
    "        }\n",
    "    }"
   ]
  },
  {
   "cell_type": "markdown",
   "metadata": {},
   "source": [
    "#### Tugas 4.6\n",
    "\n",
    "Buatlah program penjumlahan dua matriks [4 x 4]. Program menampilkan matriks pertama, kedua  dan hasil penjumlahan kedua  matriks."
   ]
  },
  {
   "cell_type": "markdown",
   "metadata": {},
   "source": [
    "public static void main(String[] args) {\n",
    "\n",
    "        int a[][] = {{1, 2, 3, 1}, {4, 5, 6, 7}, {7, 8, 9, 10}, {8, 8, 9, 9}};\n",
    "        int b[][] = {{1, 1, 1, 3}, {1, 1, 1, 5}, {1, 1, 1, 11}, {8, 8, 9, 10}};\n",
    "        int c[][] = new int[4][4];\n",
    "\n",
    "        for (int i = 0; i < 4; i++) {\n",
    "            for (int j = 0; j < 4; j++) {\n",
    "                c[i][j] = a[i][j] + b[i][j];\n",
    "                System.out.print(c[i][j] + \" \");\n",
    "            }\n",
    "            System.out.println();\n",
    "        }\n",
    "    }"
   ]
  }
 ],
 "metadata": {
  "kernelspec": {
   "display_name": "SciJava",
   "language": "groovy",
   "name": "scijava"
  },
  "language_info": {
   "codemirror_mode": "groovy",
   "file_extension": "",
   "mimetype": "",
   "name": "scijava",
   "nbconverter_exporter": "",
   "pygments_lexer": "groovy",
   "version": "1.0"
  },
  "toc": {
   "base_numbering": 1,
   "nav_menu": {},
   "number_sections": false,
   "sideBar": false,
   "skip_h1_title": false,
   "title_cell": "Table of Contents",
   "title_sidebar": "Contents",
   "toc_cell": false,
   "toc_position": {},
   "toc_section_display": false,
   "toc_window_display": false
  }
 },
 "nbformat": 4,
 "nbformat_minor": 2
}
